{
  "nbformat": 4,
  "nbformat_minor": 0,
  "metadata": {
    "colab": {
      "provenance": [],
      "gpuType": "T4",
      "authorship_tag": "ABX9TyP68SaxhBWGx5vqzc/ZBeCm",
      "include_colab_link": true
    },
    "kernelspec": {
      "name": "python3",
      "display_name": "Python 3"
    },
    "language_info": {
      "name": "python"
    },
    "accelerator": "GPU"
  },
  "cells": [
    {
      "cell_type": "markdown",
      "metadata": {
        "id": "view-in-github",
        "colab_type": "text"
      },
      "source": [
        "<a href=\"https://colab.research.google.com/github/Aupriya-kl/CatvsDog/blob/main/CatvsDog(cnn).ipynb\" target=\"_parent\"><img src=\"https://colab.research.google.com/assets/colab-badge.svg\" alt=\"Open In Colab\"/></a>"
      ]
    },
    {
      "cell_type": "code",
      "source": [
        "!mkdir -p ~/.kaggle\n",
        "!cp kaggle.json ~/.kaggle/\n",
        "!chmod 600 ~/.kaggle/kaggle.json  #upload kaggle.json file from kaggle(go to kaggle account/setting create new api then it downloads a file)"
      ],
      "metadata": {
        "id": "eS0xFrsg10ap"
      },
      "execution_count": null,
      "outputs": []
    },
    {
      "cell_type": "code",
      "source": [
        "!kaggle datasets download -d salader/dogs-vs-cats # !copy from kaggle(DATASET-three dots-copy path)"
      ],
      "metadata": {
        "id": "O_k6o2Il7qa2"
      },
      "execution_count": null,
      "outputs": []
    },
    {
      "cell_type": "code",
      "source": [
        "!unzip dogs-vs-cats.zip"
      ],
      "metadata": {
        "id": "4kzVT3WJ8GKM"
      },
      "execution_count": null,
      "outputs": []
    },
    {
      "cell_type": "code",
      "source": [
        "import tensorflow as tf\n",
        "from tensorflow import keras\n",
        "from tensorflow.keras.layers import Dense,Flatten,Conv2D,MaxPooling2D\n",
        "from tensorflow.keras.models import Sequential"
      ],
      "metadata": {
        "id": "KiUByI0d9Bgr"
      },
      "execution_count": 5,
      "outputs": []
    },
    {
      "cell_type": "code",
      "source": [
        "#generator helps devide large dataset into small datasets\n",
        "train_ds=keras.utils.image_dataset_from_directory(\n",
        "    directory='/content/train', #train copy\n",
        "    labels='inferred',\n",
        "    label_mode='int',\n",
        "    batch_size=32,\n",
        "    image_size=(256,256)\n",
        ")"
      ],
      "metadata": {
        "id": "DJ18AWwZKdYO"
      },
      "execution_count": null,
      "outputs": []
    },
    {
      "cell_type": "code",
      "source": [
        "test_ds=keras.utils.image_dataset_from_directory(\n",
        "    directory='/content/test',\n",
        "    labels='inferred',\n",
        "    label_mode='int',\n",
        "    batch_size=32,\n",
        "    image_size=(256,256)\n",
        ")"
      ],
      "metadata": {
        "id": "yHWRbAjpNaKY"
      },
      "execution_count": null,
      "outputs": []
    },
    {
      "cell_type": "code",
      "source": [
        "#normalize\n",
        "def process(image,label):\n",
        "  image=tf.cast(image/255. ,tf.float32)\n",
        "  return image,label"
      ],
      "metadata": {
        "id": "qVOaw8J2OBgP"
      },
      "execution_count": 8,
      "outputs": []
    },
    {
      "cell_type": "code",
      "source": [
        "# prompt: next code\n",
        "\n",
        "train_ds=train_ds.map(process)\n",
        "test_ds=test_ds.map(process)\n",
        "\n",
        "#create model\n",
        "model=Sequential()\n",
        "model.add(Conv2D(32,kernel_size=(3,3),padding='valid',activation='relu',input_shape=(256,256,3)))\n",
        "model.add(MaxPooling2D(pool_size=(2,2),strides=2,padding='valid'))\n",
        "model.add(Conv2D(64,kernel_size=(3,3),padding='valid',activation='relu'))\n",
        "model.add(MaxPooling2D(pool_size=(2,2),strides=2,padding='valid'))\n",
        "model.add(Flatten())\n",
        "model.add(Dense(128,activation='relu'))\n",
        "model.add(Dense(1,activation='sigmoid'))\n",
        "\n",
        "\n",
        "#compile\n",
        "model.compile(optimizer='adam',loss='binary_crossentropy',metrics=['accuracy'])\n",
        "\n",
        "#train\n",
        "model.fit(train_ds,epochs=5)\n",
        "#evaluate\n",
        "model.evaluate(test_ds)\n"
      ],
      "metadata": {
        "id": "UEgnk8fgxJ2O"
      },
      "execution_count": null,
      "outputs": []
    },
    {
      "cell_type": "code",
      "source": [
        "import pickle\n",
        "with open('CatDogClassifier.pkl','wb') as f:\n",
        "  pickle.dump(model,f)\n"
      ],
      "metadata": {
        "id": "wefaSDZE7Wwb"
      },
      "execution_count": 19,
      "outputs": []
    },
    {
      "cell_type": "code",
      "source": [
        "from google.colab import files\n",
        "files.download('CatDogClassifier.pkl')"
      ],
      "metadata": {
        "id": "8bCY7qjb-bVc"
      },
      "execution_count": null,
      "outputs": []
    }
  ]
}